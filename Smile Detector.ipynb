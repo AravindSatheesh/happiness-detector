{
 "cells": [
  {
   "cell_type": "markdown",
   "metadata": {},
   "source": [
    "# Smile Detector"
   ]
  },
  {
   "cell_type": "markdown",
   "metadata": {},
   "source": [
    "**Specifying Python version used**"
   ]
  },
  {
   "cell_type": "code",
   "execution_count": 3,
   "metadata": {},
   "outputs": [
    {
     "name": "stdout",
     "output_type": "stream",
     "text": [
      "3.6.9\n"
     ]
    }
   ],
   "source": [
    "from platform import python_version\n",
    "\n",
    "print(python_version())"
   ]
  },
  {
   "cell_type": "markdown",
   "metadata": {},
   "source": [
    "**Specifying opencv version used**"
   ]
  },
  {
   "cell_type": "code",
   "execution_count": 4,
   "metadata": {},
   "outputs": [
    {
     "name": "stdout",
     "output_type": "stream",
     "text": [
      "# packages in environment at C:\\Users\\aravi\\Anaconda3\\envs\\computervision:\n",
      "#\n",
      "# Name                    Version                   Build  Channel\n",
      "libopencv                 3.4.2                h20b85fd_0  \n",
      "opencv                    3.4.2            py36h40b0b35_0  \n",
      "py-opencv                 3.4.2            py36hc319ecb_0  \n",
      "\n",
      "Note: you may need to restart the kernel to use updated packages.\n"
     ]
    }
   ],
   "source": [
    "conda list opencv"
   ]
  },
  {
   "cell_type": "markdown",
   "metadata": {},
   "source": [
    "**Importing opencv**"
   ]
  },
  {
   "cell_type": "code",
   "execution_count": 5,
   "metadata": {},
   "outputs": [],
   "source": [
    "import cv2"
   ]
  },
  {
   "cell_type": "markdown",
   "metadata": {},
   "source": [
    "**Creating cascades for face and eye with pre-trained classifiers**\n",
    "\n",
    "- The below mentioned xml files consists of stages and haar like features for detecting in those stages"
   ]
  },
  {
   "cell_type": "code",
   "execution_count": 6,
   "metadata": {},
   "outputs": [],
   "source": [
    "# Creating cascades\n",
    "\n",
    "face_cascade = cv2.CascadeClassifier('haarcascade_frontalface_default.xml')\n",
    "smile_cascade = cv2.CascadeClassifier('haarcascade_smile.xml')"
   ]
  },
  {
   "cell_type": "markdown",
   "metadata": {},
   "source": [
    "**Defining detect function to detect faces and eyes and draw coloured rectangles to denote them**\n",
    "\n",
    "- We create a function that takes as input the image in black and white (gray) and the original image (frame), and that will return the same image with the detector rectangles. "
   ]
  },
  {
   "cell_type": "markdown",
   "metadata": {},
   "source": [
    "---------------------"
   ]
  },
  {
   "cell_type": "markdown",
   "metadata": {},
   "source": [
    "**Function 1**\n",
    "\n",
    "- This function will detect smile and draw a rectangle around the mouth when smiled"
   ]
  },
  {
   "cell_type": "code",
   "execution_count": 23,
   "metadata": {},
   "outputs": [],
   "source": [
    "# Defining detect function\n",
    "\n",
    "def detect(grey, image):\n",
    "    faces = face_cascade.detectMultiScale(grey,1.3,5) # (greyscale image,image compression ratio, minimum nearby frames to cross threshold)\n",
    "    for (x,y,w,h) in faces: # (x,y)- co-ordinates of rectange start point, w-width, h-height\n",
    "        cv2.rectangle(image,(x,y),(x+w,y+h),(0,255,0),2) #(original-image, start, end, color, thickness)\n",
    "        roi_grey = grey[y:y+h, x:x+w] # images are cropped to detect eye within face to save computational time\n",
    "        roi_color = image[y:y+h, x:x+w]\n",
    "        smile = smile_cascade.detectMultiScale(roi_grey,1.6,16) # 1.6, 16 is done based on tryouts in system\n",
    "        for (ex,ey,ew,eh) in smile:\n",
    "            cv2.rectangle(roi_color,(ex,ey),(ex+ew,ey+eh),(0,0,255),2)\n",
    "    return image #image is returned with detector rectangles"
   ]
  },
  {
   "cell_type": "markdown",
   "metadata": {},
   "source": [
    "**Function 2**\n",
    "\n",
    "- This function will detect smile and draw a green rectangle around the face when smiled."
   ]
  },
  {
   "cell_type": "code",
   "execution_count": 25,
   "metadata": {},
   "outputs": [],
   "source": [
    "# Defining detect function\n",
    "\n",
    "def detect(grey, image):\n",
    "    faces = face_cascade.detectMultiScale(grey,1.3,5) # (greyscale image,image compression ratio, minimum nearby frames to cross threshold)\n",
    "    for (x,y,w,h) in faces: # (x,y)- co-ordinates of rectange start point, w-width, h-height\n",
    "        cv2.rectangle(image,(x,y),(x+w,y+h),(0,255,0),2) #(original-image, start, end, color, thickness)\n",
    "        roi_grey = grey[y:y+h, x:x+w] # images are cropped to detect eye within face to save computational time\n",
    "        roi_color = image[y:y+h, x:x+w]\n",
    "        smile = smile_cascade.detectMultiScale(roi_grey,1.6,16)\n",
    "        a = ()\n",
    "        if(type(smile) != type(a)):\n",
    "            for (x,y,w,h) in faces: # (x,y)- co-ordinates of rectange start point, w-width, h-height\n",
    "                cv2.rectangle(image,(x,y),(x+w,y+h),(0,0,255),2)\n",
    "    return image #image is returned with detector rectangles"
   ]
  },
  {
   "cell_type": "markdown",
   "metadata": {},
   "source": [
    "**Function 3**\n",
    "\n",
    "- This function will detect smile and draw a green rectangle around the face when smiled and create a label 'happy' when smiling."
   ]
  },
  {
   "cell_type": "code",
   "execution_count": 17,
   "metadata": {},
   "outputs": [],
   "source": [
    "# Defining detect function\n",
    "\n",
    "def detect(grey, image):\n",
    "    faces = face_cascade.detectMultiScale(grey,1.3,5) # (greyscale image,image compression ratio, minimum nearby frames to cross threshold)\n",
    "    for (x,y,w,h) in faces: # (x,y)- co-ordinates of rectange start point, w-width, h-height\n",
    "        cv2.rectangle(image,(x,y),(x+w,y+h),(0,0,255),2) #(original-image, start, end, color, thickness)\n",
    "        roi_grey = grey[y:y+h, x:x+w] # images are cropped to detect eye within face to save computational time\n",
    "        roi_color = image[y:y+h, x:x+w]\n",
    "        smile = smile_cascade.detectMultiScale(roi_grey,1.6,16)\n",
    "        a = ()\n",
    "        if(type(smile) != type(a)):\n",
    "            for (x,y,w,h) in faces: # (x,y)- co-ordinates of rectange start point, w-width, h-height\n",
    "                cv2.rectangle(image,(x,y),(x+w,y+h),(0,255,0),2)\n",
    "                font = cv2.FONT_HERSHEY_SIMPLEX #defining font type for the label\n",
    "                #Create a label named 'smiled' on top of the face\n",
    "                cv2.putText(image,text = 'Happy',org=(x,y),fontFace =  font, fontScale = .5, color=(255,0,0), thickness = 2)\n",
    "    return image #image is returned with detector rectangles"
   ]
  },
  {
   "cell_type": "markdown",
   "metadata": {},
   "source": [
    "**Capturing video and applying canvas to it**"
   ]
  },
  {
   "cell_type": "code",
   "execution_count": 18,
   "metadata": {},
   "outputs": [],
   "source": [
    "# Capturing video and applying canvas to it\n",
    "video_capture = cv2.VideoCapture(0) #0 for webcam inbuit, 1 for other source\n",
    "\n",
    "\n",
    "while True:\n",
    "    _,frame = video_capture.read() # first return value is True or False (status)\n",
    "    grey = cv2.cvtColor(frame,cv2.COLOR_BGR2GRAY) # coloured image is converted to black and white image\n",
    "    canvas = detect(grey,frame) # frame is returned with rectangles\n",
    "    cv2.imshow('Video',canvas) #frame is shown\n",
    "\n",
    "# '& 0xff' is used for masking with 255 as cv2.waitkey(1) will return bits and only last 8 bits are equal to \n",
    "# the ASCII value of the key pressed.\n",
    "# waitkey(1) is used as after 1milli second delay, the loop runs again and frame gets refreshed.\n",
    "    if  cv2.waitKey(1) & 0xFF == ord('s'): #quit when 's' is pressed\n",
    "        break\n",
    "\n",
    "video_capture.release() #Webcam turned off\n",
    "cv2.destroyAllWindows() #Closing all windows with the images in it"
   ]
  },
  {
   "cell_type": "code",
   "execution_count": null,
   "metadata": {},
   "outputs": [],
   "source": []
  }
 ],
 "metadata": {
  "kernelspec": {
   "display_name": "Python 3",
   "language": "python",
   "name": "python3"
  },
  "language_info": {
   "codemirror_mode": {
    "name": "ipython",
    "version": 3
   },
   "file_extension": ".py",
   "mimetype": "text/x-python",
   "name": "python",
   "nbconvert_exporter": "python",
   "pygments_lexer": "ipython3",
   "version": "3.6.9"
  }
 },
 "nbformat": 4,
 "nbformat_minor": 2
}
